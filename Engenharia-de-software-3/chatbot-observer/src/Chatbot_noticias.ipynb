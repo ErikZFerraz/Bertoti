{
  "nbformat": 4,
  "nbformat_minor": 0,
  "metadata": {
    "colab": {
      "provenance": []
    },
    "kernelspec": {
      "name": "python3",
      "display_name": "Python 3"
    },
    "language_info": {
      "name": "python"
    }
  },
  "cells": [
    {
      "cell_type": "code",
      "execution_count": null,
      "metadata": {
        "colab": {
          "base_uri": "https://localhost:8080/"
        },
        "id": "eujYCowx9eq2",
        "outputId": "11482ebb-40e7-45a6-939b-c50d0104db48"
      },
      "outputs": [
        {
          "output_type": "stream",
          "name": "stdout",
          "text": [
            "Requirement already satisfied: pytelegrambotapi in /usr/local/lib/python3.10/dist-packages (4.24.0)\n",
            "Requirement already satisfied: requests in /usr/local/lib/python3.10/dist-packages (from pytelegrambotapi) (2.32.3)\n",
            "Requirement already satisfied: charset-normalizer<4,>=2 in /usr/local/lib/python3.10/dist-packages (from requests->pytelegrambotapi) (3.4.0)\n",
            "Requirement already satisfied: idna<4,>=2.5 in /usr/local/lib/python3.10/dist-packages (from requests->pytelegrambotapi) (3.10)\n",
            "Requirement already satisfied: urllib3<3,>=1.21.1 in /usr/local/lib/python3.10/dist-packages (from requests->pytelegrambotapi) (2.2.3)\n",
            "Requirement already satisfied: certifi>=2017.4.17 in /usr/local/lib/python3.10/dist-packages (from requests->pytelegrambotapi) (2024.8.30)\n"
          ]
        }
      ],
      "source": [
        "! pip install pytelegrambotapi"
      ]
    },
    {
      "cell_type": "code",
      "source": [
        "import random\n",
        "\n",
        "# Estratégias de Notícias\n",
        "class NewsStrategy:\n",
        "    def get_news(self, topic):\n",
        "        raise NotImplementedError\n",
        "\n",
        "class SportsNewsStrategy(NewsStrategy):\n",
        "    def get_news(self, topic):\n",
        "        # Lista de frases para Esportes\n",
        "        sports_news = [\n",
        "            \"Notícia de Esportes: A seleção nacional está se preparando para o próximo grande torneio internacional!\",\n",
        "            \"Notícia de Esportes: Um jogo eletrizante terminou com vitória nos últimos minutos!\",\n",
        "            \"Notícia de Esportes: Estádio lotado para o clássico entre dois grandes times do campeonato!\",\n",
        "            \"Notícia de Esportes: O time local venceu mais uma partida e segue firme na liderança!\",\n",
        "            \"Notícia de Esportes: O atacante estrela do time acaba de renovar contrato por mais três temporadas!\"\n",
        "        ]\n",
        "        # Escolhe uma frase aleatória\n",
        "        return random.choice(sports_news)\n",
        "\n",
        "class TechnologyNewsStrategy(NewsStrategy):\n",
        "    def get_news(self, topic):\n",
        "        # Lista de frases para Tecnologia\n",
        "        tech_news = [\n",
        "            \"Notícia de Tecnologia: Cientistas desenvolvem novo chip que promete revolucionar os dispositivos móveis!\",\n",
        "            \"Notícia de Tecnologia: A IA está ajudando a criar novas soluções para a saúde e medicina!\",\n",
        "            \"Notícia de Tecnologia: A empresa X anunciou um novo gadget que promete mudar a forma como interagimos com o mundo digital!\",\n",
        "            \"Notícia de Tecnologia: O lançamento de um novo sistema operacional promete melhorar a segurança e performance dos dispositivos!\",\n",
        "            \"Notícia de Tecnologia: Uma startup brasileira acaba de lançar um aplicativo revolucionário para otimizar a vida cotidiana!\"\n",
        "        ]\n",
        "        # Escolhe uma frase aleatória\n",
        "        return random.choice(tech_news)\n",
        "\n",
        "class EconomyNewsStrategy(NewsStrategy):\n",
        "    def get_news(self, topic):\n",
        "        # Lista de frases para Economia\n",
        "        economy_news = [\n",
        "            \"Notícia de Economia: O mercado global de criptomoedas está passando por uma grande valorização!\",\n",
        "            \"Notícia de Economia: A economia brasileira mostra sinais de recuperação com o aumento das exportações!\",\n",
        "            \"Notícia de Economia: O governo anunciou uma série de medidas para estimular o crescimento econômico no próximo ano!\",\n",
        "            \"Notícia de Economia: As taxas de juros começam a cair, gerando otimismo entre os investidores e consumidores!\",\n",
        "            \"Notícia de Economia: O mercado imobiliário está aquecido, com aumento das vendas e preços em alta!\"\n",
        "        ]\n",
        "        # Escolhe uma frase aleatória\n",
        "        return random.choice(economy_news)\n",
        "\n",
        "# Funções do Bot para responder aos comandos\n",
        "\n",
        "import telebot\n",
        "\n",
        "# Token do seu bot do Telegram\n",
        "TOKEN = '6621767934:AAFLxf_Lnb_BQNtw74-Yly0ajUuqFi0Ik2w'\n",
        "\n",
        "# Inicialização do bot\n",
        "bot = telebot.TeleBot(TOKEN)\n",
        "\n",
        "# Define a estratégia padrão como Esportes\n",
        "current_strategy = SportsNewsStrategy()\n",
        "\n",
        "# Função para responder ao comando /start\n",
        "@bot.message_handler(commands=['start'])\n",
        "def send_welcome(message):\n",
        "    bot.reply_to(message, \"Olá! Eu sou o bot de notícias. Eu posso te enviar notícias de Esportes, Tecnologia e Economia.\\n\"\n",
        "                          \"Digite /noticias_esportes para ver notícias de esportes, /noticias_tecnologia para ver notícias de tecnologia, ou /noticias_economia para ver notícias de economia.\")\n",
        "\n",
        "# Função para enviar as notícias de Esportes\n",
        "@bot.message_handler(commands=['noticias_esportes'])\n",
        "def noticias_esportes(message):\n",
        "    global current_strategy\n",
        "    current_strategy = SportsNewsStrategy()  # Define a estratégia para Esportes\n",
        "    noticia = current_strategy.get_news(\"Esportes\")\n",
        "    bot.reply_to(message, noticia)\n",
        "\n",
        "# Função para enviar as notícias de Tecnologia\n",
        "@bot.message_handler(commands=['noticias_tecnologia'])\n",
        "def noticias_tecnologia(message):\n",
        "    global current_strategy\n",
        "    current_strategy = TechnologyNewsStrategy()  # Define a estratégia para Tecnologia\n",
        "    noticia = current_strategy.get_news(\"Tecnologia\")\n",
        "    bot.reply_to(message, noticia)\n",
        "\n",
        "# Função para enviar as notícias de Economia\n",
        "@bot.message_handler(commands=['noticias_economia'])\n",
        "def noticias_economia(message):\n",
        "    global current_strategy\n",
        "    current_strategy = EconomyNewsStrategy()  # Define a estratégia para Economia\n",
        "    noticia = current_strategy.get_news(\"Economia\")\n",
        "    bot.reply_to(message, noticia)\n",
        "\n",
        "# Função para responder a comandos inválidos\n",
        "@bot.message_handler(func=lambda message: message.text not in ['/noticias_esportes', '/noticias_tecnologia', '/noticias_economia'])\n",
        "def resposta_invalida(message):\n",
        "    bot.reply_to(message, \"Comando inválido. Por favor, use um dos seguintes comandos:\\n\"\n",
        "                          \"/noticias_esportes - Para notícias de esportes\\n\"\n",
        "                          \"/noticias_tecnologia - Para notícias de tecnologia\\n\"\n",
        "                          \"/noticias_economia - Para notícias de economia\")\n",
        "\n",
        "# Função para fechar o bot\n",
        "@bot.message_handler(commands=['fechar_bot'])\n",
        "def fechar_bot(message):\n",
        "    bot.reply_to(message, \"Obrigado por usar o bot de notícias! Até logo!\")\n",
        "    bot.stop_polling()\n",
        "\n",
        "# Inicia o bot\n",
        "bot.polling()\n"
      ],
      "metadata": {
        "id": "ptBcXGZp9iYR"
      },
      "execution_count": null,
      "outputs": []
    }
  ]
}